{
 "cells": [
  {
   "cell_type": "code",
   "execution_count": 11,
   "id": "4e37c8a1",
   "metadata": {},
   "outputs": [],
   "source": [
    "import qiskit\n",
    "qiskit.__version__\n",
    "from qiskit import IBMQ\n",
    "IBMQ.save_account('e95349e7c1f5c6175428e72ef21eaf09df880444f3e30a07ab996036d3bde5138d71db86dafdb416b1e3e9d2d8e1271d2a267f8c282750938382dbae9400b643', overwrite=True)"
   ]
  },
  {
   "cell_type": "code",
   "execution_count": 14,
   "id": "2274b750",
   "metadata": {},
   "outputs": [
    {
     "ename": "SyntaxError",
     "evalue": "invalid syntax (1399883234.py, line 1)",
     "output_type": "error",
     "traceback": [
      "\u001b[1;36m  Input \u001b[1;32mIn [14]\u001b[1;36m\u001b[0m\n\u001b[1;33m    git init\u001b[0m\n\u001b[1;37m        ^\u001b[0m\n\u001b[1;31mSyntaxError\u001b[0m\u001b[1;31m:\u001b[0m invalid syntax\n"
     ]
    }
   ],
   "source": [
    "git init\n",
    "git add README.md\n",
    "git commit -m \"first commit\"\n",
    "git branch -M main\n",
    "git remote add origin https://github.com/jxnwang/Qcircuit.git\n",
    "git push -u origin main"
   ]
  },
  {
   "cell_type": "code",
   "execution_count": null,
   "id": "07eb7e36",
   "metadata": {},
   "outputs": [],
   "source": []
  }
 ],
 "metadata": {
  "kernelspec": {
   "display_name": "Python 3 (ipykernel)",
   "language": "python",
   "name": "python3"
  },
  "language_info": {
   "codemirror_mode": {
    "name": "ipython",
    "version": 3
   },
   "file_extension": ".py",
   "mimetype": "text/x-python",
   "name": "python",
   "nbconvert_exporter": "python",
   "pygments_lexer": "ipython3",
   "version": "3.10.6"
  }
 },
 "nbformat": 4,
 "nbformat_minor": 5
}
